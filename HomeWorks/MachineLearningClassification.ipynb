{
 "cells": [
  {
   "cell_type": "code",
   "execution_count": 41,
   "metadata": {},
   "outputs": [],
   "source": [
    "# import\n",
    "import pandas as pd\n",
    "from sklearn.model_selection import train_test_split\n",
    "from sklearn.compose import ColumnTransformer\n",
    "from sklearn.pipeline import Pipeline\n",
    "from sklearn.impute import SimpleImputer\n",
    "from sklearn.preprocessing import StandardScaler, OneHotEncoder\n",
    "from sklearn.linear_model import LogisticRegression\n",
    "from sklearn.tree import DecisionTreeClassifier\n",
    "from sklearn.ensemble import RandomForestClassifier\n",
    "from sklearn.metrics import accuracy_score"
   ]
  },
  {
   "cell_type": "code",
   "execution_count": 42,
   "metadata": {},
   "outputs": [
    {
     "data": {
      "text/html": [
       "<div>\n",
       "<style scoped>\n",
       "    .dataframe tbody tr th:only-of-type {\n",
       "        vertical-align: middle;\n",
       "    }\n",
       "\n",
       "    .dataframe tbody tr th {\n",
       "        vertical-align: top;\n",
       "    }\n",
       "\n",
       "    .dataframe thead th {\n",
       "        text-align: right;\n",
       "    }\n",
       "</style>\n",
       "<table border=\"1\" class=\"dataframe\">\n",
       "  <thead>\n",
       "    <tr style=\"text-align: right;\">\n",
       "      <th></th>\n",
       "      <th>individual_id</th>\n",
       "      <th>address_id</th>\n",
       "      <th>days_tenure</th>\n",
       "      <th>cust_orig_date</th>\n",
       "      <th>date_of_birth</th>\n",
       "      <th>city</th>\n",
       "      <th>county</th>\n",
       "      <th>marital_status</th>\n",
       "      <th>home_market_value</th>\n",
       "      <th>home_owner</th>\n",
       "      <th>college_degree</th>\n",
       "      <th>good_credit</th>\n",
       "      <th>acct_suspd_date</th>\n",
       "      <th>Churn</th>\n",
       "    </tr>\n",
       "  </thead>\n",
       "  <tbody>\n",
       "    <tr>\n",
       "      <th>0</th>\n",
       "      <td>221300017872</td>\n",
       "      <td>521300005982</td>\n",
       "      <td>1454</td>\n",
       "      <td>2018-12-09</td>\n",
       "      <td>1978-06-23</td>\n",
       "      <td>Kaufman</td>\n",
       "      <td>Kaufman</td>\n",
       "      <td>Married</td>\n",
       "      <td>50000 - 74999</td>\n",
       "      <td>1</td>\n",
       "      <td>1</td>\n",
       "      <td>1</td>\n",
       "      <td>NaN</td>\n",
       "      <td>0</td>\n",
       "    </tr>\n",
       "    <tr>\n",
       "      <th>1</th>\n",
       "      <td>221300134410</td>\n",
       "      <td>521300051115</td>\n",
       "      <td>1795</td>\n",
       "      <td>2018-01-02</td>\n",
       "      <td>1950-05-30</td>\n",
       "      <td>Grand Prairie</td>\n",
       "      <td>Dallas</td>\n",
       "      <td>Single</td>\n",
       "      <td>50000 - 74999</td>\n",
       "      <td>1</td>\n",
       "      <td>0</td>\n",
       "      <td>0</td>\n",
       "      <td>NaN</td>\n",
       "      <td>0</td>\n",
       "    </tr>\n",
       "    <tr>\n",
       "      <th>2</th>\n",
       "      <td>221300673028</td>\n",
       "      <td>521300247929</td>\n",
       "      <td>4818</td>\n",
       "      <td>2009-09-23</td>\n",
       "      <td>1967-07-07</td>\n",
       "      <td>Dallas</td>\n",
       "      <td>Dallas</td>\n",
       "      <td>Married</td>\n",
       "      <td>75000 - 99999</td>\n",
       "      <td>1</td>\n",
       "      <td>0</td>\n",
       "      <td>0</td>\n",
       "      <td>NaN</td>\n",
       "      <td>0</td>\n",
       "    </tr>\n",
       "    <tr>\n",
       "      <th>3</th>\n",
       "      <td>221301573419</td>\n",
       "      <td>521300570147</td>\n",
       "      <td>130</td>\n",
       "      <td>2022-07-25</td>\n",
       "      <td>1969-05-25</td>\n",
       "      <td>Arlington</td>\n",
       "      <td>Tarrant</td>\n",
       "      <td>Married</td>\n",
       "      <td>175000 - 199999</td>\n",
       "      <td>1</td>\n",
       "      <td>0</td>\n",
       "      <td>1</td>\n",
       "      <td>2021-12-22</td>\n",
       "      <td>1</td>\n",
       "    </tr>\n",
       "    <tr>\n",
       "      <th>4</th>\n",
       "      <td>221301622347</td>\n",
       "      <td>521300588399</td>\n",
       "      <td>5896</td>\n",
       "      <td>2006-10-11</td>\n",
       "      <td>1972-09-25</td>\n",
       "      <td>Fort Worth</td>\n",
       "      <td>Tarrant</td>\n",
       "      <td>Married</td>\n",
       "      <td>225000 - 249999</td>\n",
       "      <td>1</td>\n",
       "      <td>1</td>\n",
       "      <td>1</td>\n",
       "      <td>NaN</td>\n",
       "      <td>0</td>\n",
       "    </tr>\n",
       "  </tbody>\n",
       "</table>\n",
       "</div>"
      ],
      "text/plain": [
       "   individual_id    address_id  days_tenure cust_orig_date date_of_birth  \\\n",
       "0   221300017872  521300005982         1454     2018-12-09    1978-06-23   \n",
       "1   221300134410  521300051115         1795     2018-01-02    1950-05-30   \n",
       "2   221300673028  521300247929         4818     2009-09-23    1967-07-07   \n",
       "3   221301573419  521300570147          130     2022-07-25    1969-05-25   \n",
       "4   221301622347  521300588399         5896     2006-10-11    1972-09-25   \n",
       "\n",
       "            city   county marital_status home_market_value  home_owner  \\\n",
       "0        Kaufman  Kaufman        Married     50000 - 74999           1   \n",
       "1  Grand Prairie   Dallas         Single     50000 - 74999           1   \n",
       "2         Dallas   Dallas        Married     75000 - 99999           1   \n",
       "3      Arlington  Tarrant        Married   175000 - 199999           1   \n",
       "4     Fort Worth  Tarrant        Married   225000 - 249999           1   \n",
       "\n",
       "   college_degree  good_credit acct_suspd_date  Churn  \n",
       "0               1            1             NaN      0  \n",
       "1               0            0             NaN      0  \n",
       "2               0            0             NaN      0  \n",
       "3               0            1      2021-12-22      1  \n",
       "4               1            1             NaN      0  "
      ]
     },
     "execution_count": 42,
     "metadata": {},
     "output_type": "execute_result"
    }
   ],
   "source": [
    "df = pd.read_csv(r'../Datasets/autoinsurance_churn_small.csv')\n",
    "df.head(5)"
   ]
  },
  {
   "cell_type": "code",
   "execution_count": 43,
   "metadata": {},
   "outputs": [],
   "source": [
    "# Preprocessing steps (adjust based on your dataset)\n",
    "X = df.drop(['Churn'], axis=1)\n",
    "y = df['Churn']\n",
    "X_train, X_test, y_train, y_test = train_test_split(X, y, test_size=0.2, random_state=42)"
   ]
  },
  {
   "cell_type": "code",
   "execution_count": 44,
   "metadata": {},
   "outputs": [],
   "source": [
    "numerical_cols = X.select_dtypes(include=['int64', 'float64']).columns\n",
    "categorical_cols = X.select_dtypes(include=['object']).columns\n",
    "\n",
    "numerical_transformer = Pipeline(steps=[\n",
    "    ('imputer', SimpleImputer(strategy='mean')),\n",
    "    ('scaler', StandardScaler())])\n",
    "\n",
    "categorical_transformer = Pipeline(steps=[\n",
    "    ('imputer', SimpleImputer(strategy='most_frequent')),\n",
    "    ('onehot', OneHotEncoder(handle_unknown='ignore'))])\n",
    "\n",
    "preprocessor = ColumnTransformer(\n",
    "    transformers=[\n",
    "        ('num', numerical_transformer, numerical_cols),\n",
    "        ('cat', categorical_transformer, categorical_cols)])"
   ]
  },
  {
   "cell_type": "code",
   "execution_count": 45,
   "metadata": {},
   "outputs": [
    {
     "name": "stdout",
     "output_type": "stream",
     "text": [
      "Logistic Regression Accuracy: 0.99965\n"
     ]
    }
   ],
   "source": [
    "# Define and train the Logistic Regression model\n",
    "lr_model = Pipeline(steps=[('preprocessor', preprocessor),\n",
    "                           ('classifier', LogisticRegression(random_state=42))])\n",
    "lr_model.fit(X_train, y_train)\n",
    "lr_predictions = lr_model.predict(X_test)\n",
    "print('Logistic Regression Accuracy:', accuracy_score(y_test, lr_predictions))"
   ]
  },
  {
   "cell_type": "code",
   "execution_count": 46,
   "metadata": {},
   "outputs": [
    {
     "name": "stdout",
     "output_type": "stream",
     "text": [
      "Decision Tree Accuracy: 0.99925\n"
     ]
    }
   ],
   "source": [
    "# Define and train the Decision Tree model\n",
    "dt_model = Pipeline(steps=[('preprocessor', preprocessor),\n",
    "                           ('classifier', DecisionTreeClassifier(random_state=42))])\n",
    "dt_model.fit(X_train, y_train)\n",
    "dt_predictions = dt_model.predict(X_test)\n",
    "print('Decision Tree Accuracy:', accuracy_score(y_test, dt_predictions))"
   ]
  },
  {
   "cell_type": "code",
   "execution_count": 47,
   "metadata": {},
   "outputs": [],
   "source": [
    "# Define and train the Random Forest model\n",
    "rf_model = Pipeline(steps=[('preprocessor', preprocessor),\n",
    "                           ('classifier', RandomForestClassifier(random_state=42))])\n",
    "rf_model.fit(X_train, y_train)\n",
    "rf_predictions = rf_model.predict(X_test)\n",
    "print('Random Forest Accuracy:', accuracy_score(y_test, rf_predictions))"
   ]
  }
 ],
 "metadata": {
  "kernelspec": {
   "display_name": "base",
   "language": "python",
   "name": "python3"
  },
  "language_info": {
   "codemirror_mode": {
    "name": "ipython",
    "version": 3
   },
   "file_extension": ".py",
   "mimetype": "text/x-python",
   "name": "python",
   "nbconvert_exporter": "python",
   "pygments_lexer": "ipython3",
   "version": "3.11.5"
  }
 },
 "nbformat": 4,
 "nbformat_minor": 2
}
